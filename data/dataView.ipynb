{
 "cells": [
  {
   "cell_type": "markdown",
   "metadata": {},
   "source": [
    "查看数据集的维度/内容"
   ]
  },
  {
   "cell_type": "code",
   "execution_count": 3,
   "metadata": {},
   "outputs": [],
   "source": [
    "import numpy as np\n",
    "data_name = 'NYCBike1' #'NYCBike1' 'NYCBike2' 'NYCTaxi' 'METRLA' 'PEMSBAY'"
   ]
  },
  {
   "cell_type": "markdown",
   "metadata": {},
   "source": [
    "1. 加载train/val/test.npz"
   ]
  },
  {
   "cell_type": "code",
   "execution_count": 4,
   "metadata": {},
   "outputs": [
    {
     "name": "stdout",
     "output_type": "stream",
     "text": [
      "x (3023, 19, 128, 4) float64\n",
      "y (3023, 1, 128, 4) float64\n",
      "x_offsets (19, 1) int64\n",
      "y_offsets (1, 1) int64\n"
     ]
    }
   ],
   "source": [
    "data_train = np.load(f'./{data_name}/train.npz')\n",
    "for file in data_train.files:\n",
    "    print(file, data_train[file].shape, data_train[file].dtype)"
   ]
  },
  {
   "cell_type": "markdown",
   "metadata": {},
   "source": [
    "2. 加载邻接矩阵"
   ]
  },
  {
   "cell_type": "code",
   "execution_count": 38,
   "metadata": {},
   "outputs": [
    {
     "name": "stdout",
     "output_type": "stream",
     "text": [
      "adj_mx (325, 325) float64\n"
     ]
    }
   ],
   "source": [
    "data_adj = np.load(f'./{data_name}/adj_mx.npz')\n",
    "for file in data_adj.files:\n",
    "    print(file, data_adj[file].shape, data_adj[file].dtype)\n",
    "# 对于NYCBike1(16*8), graph的node顺序按照h16w8的gird顺序\n",
    "# np.savetxt(f'graph/graph_{data_name}.txt', data_adj['adj_mx'], fmt='%0.2f')"
   ]
  },
  {
   "cell_type": "markdown",
   "metadata": {},
   "source": [
    "2.1 计算edges数目"
   ]
  },
  {
   "cell_type": "code",
   "execution_count": 39,
   "metadata": {},
   "outputs": [
    {
     "name": "stdout",
     "output_type": "stream",
     "text": [
      "Number of edges: 2369\n"
     ]
    }
   ],
   "source": [
    "def count_edges(adj_matrix, direted):\n",
    "    assert len(adj_matrix.shape) == 2 and adj_matrix.shape[0] == adj_matrix.shape[1], \"Matrix must be square\"\n",
    "    np.fill_diagonal(adj_matrix, 0)\n",
    "    edge_matrix = (adj_matrix != 0).astype(int)\n",
    "    edge_count = np.sum(edge_matrix) // (1 if direted else 2)\n",
    "    return edge_count\n",
    "\n",
    "direted = True if data_name in ['METRLA', 'PEMSBAY'] else False\n",
    "print(\"Number of edges:\", count_edges(data_adj['adj_mx'], direted))"
   ]
  },
  {
   "cell_type": "markdown",
   "metadata": {},
   "source": [
    "2.2 floyd_warshall算法测试"
   ]
  },
  {
   "cell_type": "code",
   "execution_count": 40,
   "metadata": {},
   "outputs": [],
   "source": [
    "import torch\n",
    "import torch.nn as nn \n",
    "import torch.nn.functional as F \n",
    "import numpy as np\n",
    "from scipy.sparse.csgraph import floyd_warshall\n",
    "def get_shortpath_num(graph, dataset):\n",
    "    if dataset in ['METRLA', 'PEMSBAY']:\n",
    "        graph = modify_graph_numpy(graph)\n",
    "    shortest_path = floyd_warshall(graph, return_predecessors=False)\n",
    "    return shortest_path\n",
    "\n",
    "# for METRLA/PEMSBAY dataset\n",
    "# metr graph原形式：见DCRNN\n",
    "def modify_graph_numpy(graph):\n",
    "    adj_matrix = np.array(graph, dtype=float)\n",
    "    \n",
    "    non_zero_mask = adj_matrix != 0\n",
    "    adj_matrix[non_zero_mask] = np.sqrt(np.abs(np.log(adj_matrix[non_zero_mask])))\n",
    "\n",
    "    # 将原始矩阵中为0的元素设置为无穷大\n",
    "    adj_matrix[~non_zero_mask] = np.inf\n",
    "    # 将对角线上的元素设置为0\n",
    "    np.fill_diagonal(adj_matrix, 0)\n",
    "    return adj_matrix\n",
    "\n",
    "dist_matrix = get_shortpath_num(data_adj['adj_mx'], data_name)\n",
    "np.savetxt(f'graph/floyd_{data_name}.txt', dist_matrix, fmt='%0.2f')"
   ]
  },
  {
   "cell_type": "markdown",
   "metadata": {},
   "source": []
  }
 ],
 "metadata": {
  "kernelspec": {
   "display_name": "stpt",
   "language": "python",
   "name": "python3"
  },
  "language_info": {
   "codemirror_mode": {
    "name": "ipython",
    "version": 3
   },
   "file_extension": ".py",
   "mimetype": "text/x-python",
   "name": "python",
   "nbconvert_exporter": "python",
   "pygments_lexer": "ipython3",
   "version": "3.10.14"
  }
 },
 "nbformat": 4,
 "nbformat_minor": 2
}
