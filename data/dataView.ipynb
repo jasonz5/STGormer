{
 "cells": [
  {
   "cell_type": "code",
   "execution_count": 16,
   "metadata": {},
   "outputs": [],
   "source": [
    "import numpy as np\n",
    "data_name = 'NYCBike2' #'NYCBike1' 'NYCBike2' 'METRLA' 'PEMSBAY'"
   ]
  },
  {
   "cell_type": "code",
   "execution_count": 25,
   "metadata": {},
   "outputs": [
    {
     "name": "stdout",
     "output_type": "stream",
     "text": [
      "x (1912, 35, 200, 4) float64\n",
      "y (1912, 1, 200, 4) float64\n",
      "x_offsets (35, 1) int64\n",
      "y_offsets (1, 1) int64\n"
     ]
    }
   ],
   "source": [
    "data_train = np.load(f'./{data_name}/train.npz')\n",
    "for file in data_train.files:\n",
    "    print(file, data_train[file].shape, data_train[file].dtype)"
   ]
  },
  {
   "cell_type": "code",
   "execution_count": 26,
   "metadata": {},
   "outputs": [
    {
     "data": {
      "text/plain": [
       "'\\ndata [b, n, 4]\\nindex [b, 3]\\n\\nindex:\\n\\n'"
      ]
     },
     "execution_count": 26,
     "metadata": {},
     "output_type": "execute_result"
    }
   ],
   "source": [
    "'''\n",
    "data [b, n, 4]\n",
    "index [b, 3]\n",
    "\n",
    "index:\n",
    "[0, 19, 20]\n",
    "[20, 39, 40]\n",
    "[40, 59, 60]\n",
    "\n",
    "index:\n",
    "[0, 12, 24]\n",
    "[1, 13, 25]\n",
    "[2, 14, 26]\n",
    "'''"
   ]
  },
  {
   "cell_type": "code",
   "execution_count": null,
   "metadata": {},
   "outputs": [],
   "source": [
    "# data_adj = np.load(f'./{data_name}/adj_mx.npz')\n",
    "# for file in data_adj.files:\n",
    "#     print(file, data_adj[file].shape, data_train[file].dtype)\n",
    "\n",
    "# Save to graph.txt\n",
    "# 对于NYCBike1(16*8), graph的node顺序按照h16w8的gird顺序\n",
    "# np.savetxt('graph.txt', data_adj['adj_mx'], fmt='%d')"
   ]
  },
  {
   "cell_type": "markdown",
   "metadata": {},
   "source": []
  }
 ],
 "metadata": {
  "kernelspec": {
   "display_name": "stpt",
   "language": "python",
   "name": "python3"
  },
  "language_info": {
   "codemirror_mode": {
    "name": "ipython",
    "version": 3
   },
   "file_extension": ".py",
   "mimetype": "text/x-python",
   "name": "python",
   "nbconvert_exporter": "python",
   "pygments_lexer": "ipython3",
   "version": "3.10.13"
  }
 },
 "nbformat": 4,
 "nbformat_minor": 2
}
