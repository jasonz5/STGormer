{
 "cells": [
  {
   "cell_type": "code",
   "execution_count": 204,
   "metadata": {},
   "outputs": [],
   "source": [
    "import numpy as np\n",
    "data_name = 'PEMSBAY' #'NYCBike1' 'NYCBike2' 'NYCTaxi' 'METRLA' 'PEMSBAY'"
   ]
  },
  {
   "cell_type": "markdown",
   "metadata": {},
   "source": [
    "1. 加载train/val/test.npz"
   ]
  },
  {
   "cell_type": "code",
   "execution_count": 205,
   "metadata": {},
   "outputs": [],
   "source": [
    "# data_train = np.load(f'./{data_name}/train.npz')\n",
    "# for file in data_train.files:\n",
    "#     print(file, data_train[file].shape, data_train[file].dtype)"
   ]
  },
  {
   "cell_type": "markdown",
   "metadata": {},
   "source": [
    "2. 加载邻接矩阵"
   ]
  },
  {
   "cell_type": "code",
   "execution_count": 206,
   "metadata": {},
   "outputs": [
    {
     "name": "stdout",
     "output_type": "stream",
     "text": [
      "adj_mx (325, 325) float64\n"
     ]
    }
   ],
   "source": [
    "data_adj = np.load(f'./{data_name}/adj_mx.npz')\n",
    "for file in data_adj.files:\n",
    "    print(file, data_adj[file].shape, data_adj[file].dtype)\n",
    "# 对于NYCBike1(16*8), graph的node顺序按照h16w8的gird顺序\n",
    "# np.savetxt(f'graph/graph_{data_name}.txt', data_adj['adj_mx'], fmt='%0.2f')"
   ]
  },
  {
   "cell_type": "markdown",
   "metadata": {},
   "source": [
    "2.1 计算edges数目"
   ]
  },
  {
   "cell_type": "code",
   "execution_count": 207,
   "metadata": {},
   "outputs": [
    {
     "name": "stdout",
     "output_type": "stream",
     "text": [
      "Number of edges: 2369\n"
     ]
    }
   ],
   "source": [
    "def count_edges(adj_matrix, direted):\n",
    "    assert len(adj_matrix.shape) == 2 and adj_matrix.shape[0] == adj_matrix.shape[1], \"Matrix must be square\"\n",
    "    np.fill_diagonal(adj_matrix, 0)\n",
    "    edge_matrix = (adj_matrix != 0).astype(int)\n",
    "    edge_count = np.sum(edge_matrix) // (1 if direted else 2)\n",
    "    return edge_count\n",
    "\n",
    "direted = True if data_name in ['METRLA', 'PEMSBAY'] else False\n",
    "print(\"Number of edges:\", count_edges(data_adj['adj_mx'], direted))"
   ]
  },
  {
   "cell_type": "markdown",
   "metadata": {},
   "source": [
    "2.2 floyd_warshall算法测试"
   ]
  },
  {
   "cell_type": "code",
   "execution_count": 208,
   "metadata": {},
   "outputs": [],
   "source": [
    "from scipy.sparse.csgraph import floyd_warshall\n",
    "def get_spd(adj_matrix):\n",
    "    adj_matrix[adj_matrix == 0] = np.inf\n",
    "    np.fill_diagonal(adj_matrix, 0)\n",
    "    dist_matrix = floyd_warshall(adj_matrix, return_predecessors=False)\n",
    "    return dist_matrix\n",
    "\n",
    "dist_matrix = get_spd(data_adj['adj_mx'])\n",
    "np.savetxt(f'graph/floyd_{data_name}.txt', dist_matrix, fmt='%0.2f')"
   ]
  },
  {
   "cell_type": "markdown",
   "metadata": {},
   "source": []
  }
 ],
 "metadata": {
  "kernelspec": {
   "display_name": "stpt",
   "language": "python",
   "name": "python3"
  },
  "language_info": {
   "codemirror_mode": {
    "name": "ipython",
    "version": 3
   },
   "file_extension": ".py",
   "mimetype": "text/x-python",
   "name": "python",
   "nbconvert_exporter": "python",
   "pygments_lexer": "ipython3",
   "version": "3.10.13"
  }
 },
 "nbformat": 4,
 "nbformat_minor": 2
}
