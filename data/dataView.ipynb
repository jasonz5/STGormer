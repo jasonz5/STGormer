{
 "cells": [
  {
   "cell_type": "code",
   "execution_count": 43,
   "metadata": {},
   "outputs": [],
   "source": [
    "import numpy as np\n",
    "data_name = 'NYCTaxi' #'NYCBike1' 'NYCBike2'"
   ]
  },
  {
   "cell_type": "code",
   "execution_count": 44,
   "metadata": {},
   "outputs": [
    {
     "name": "stdout",
     "output_type": "stream",
     "text": [
      "x (1912, 35, 200, 2)\n",
      "y (1912, 1, 200, 2)\n",
      "x_offsets (35, 1)\n",
      "y_offsets (1, 1)\n",
      "x (1912, 35, 200, 4)\n",
      "y (1912, 1, 200, 4)\n",
      "x_offsets (35, 1)\n",
      "y_offsets (1, 1)\n"
     ]
    }
   ],
   "source": [
    "\n",
    "data_train = np.load(f'./{data_name}/train.npz')\n",
    "for file in data_train.files:\n",
    "    print(file, data_train[file].shape)\n",
    "data_train = np.load(f'./{data_name}/train_full.npz')\n",
    "for file in data_train.files:\n",
    "    print(file, data_train[file].shape)"
   ]
  },
  {
   "cell_type": "code",
   "execution_count": 45,
   "metadata": {},
   "outputs": [
    {
     "name": "stdout",
     "output_type": "stream",
     "text": [
      "x (274, 35, 200, 2)\n",
      "y (274, 1, 200, 2)\n",
      "x_offsets (35, 1)\n",
      "y_offsets (1, 1)\n",
      "x (274, 35, 200, 4)\n",
      "y (274, 1, 200, 4)\n",
      "x_offsets (35, 1)\n",
      "y_offsets (1, 1)\n"
     ]
    }
   ],
   "source": [
    "\n",
    "data_val = np.load(f'./{data_name}/val.npz')\n",
    "for file in data_val.files:\n",
    "    print(file, data_val[file].shape)\n",
    "data_val = np.load(f'./{data_name}/val_full.npz')\n",
    "for file in data_val.files:\n",
    "    print(file, data_val[file].shape)\n",
    "# print(data_val['x'][0,:,0,:])\n",
    "# print(data_val['y'][0,:,0,:])"
   ]
  },
  {
   "cell_type": "code",
   "execution_count": 46,
   "metadata": {},
   "outputs": [
    {
     "name": "stdout",
     "output_type": "stream",
     "text": [
      "x (546, 35, 200, 2)\n",
      "y (546, 1, 200, 2)\n",
      "x_offsets (35, 1)\n",
      "y_offsets (1, 1)\n",
      "x (546, 35, 200, 4)\n",
      "y (546, 1, 200, 4)\n",
      "x_offsets (35, 1)\n",
      "y_offsets (1, 1)\n"
     ]
    }
   ],
   "source": [
    "data_test = np.load(f'./{data_name}/test.npz')\n",
    "for file in data_test.files:\n",
    "    print(file, data_test[file].shape)\n",
    "data_test = np.load(f'./{data_name}/test_full.npz')\n",
    "for file in data_test.files:\n",
    "    print(file, data_test[file].shape)"
   ]
  },
  {
   "cell_type": "code",
   "execution_count": 47,
   "metadata": {},
   "outputs": [
    {
     "name": "stdout",
     "output_type": "stream",
     "text": [
      "adj_mx (200, 200)\n",
      "[[0. 1. 0. ... 0. 0. 0.]\n",
      " [1. 0. 1. ... 0. 0. 0.]\n",
      " [0. 1. 0. ... 0. 0. 0.]\n",
      " ...\n",
      " [0. 0. 0. ... 0. 1. 0.]\n",
      " [0. 0. 0. ... 1. 0. 1.]\n",
      " [0. 0. 0. ... 0. 1. 0.]]\n"
     ]
    }
   ],
   "source": [
    "\n",
    "data_adj = np.load(f'./{data_name}/adj_mx.npz')\n",
    "for file in data_adj.files:\n",
    "    print(file, data_adj[file].shape)\n",
    "    print(data_adj[file])\n",
    "# Save to graph.txt\n",
    "# 对于NYCBike1(16*8), graph的node顺序按照h16w8的gird顺序\n",
    "np.savetxt('graph.txt', data_adj['adj_mx'], fmt='%d')"
   ]
  },
  {
   "cell_type": "markdown",
   "metadata": {},
   "source": []
  }
 ],
 "metadata": {
  "kernelspec": {
   "display_name": "stpt",
   "language": "python",
   "name": "python3"
  },
  "language_info": {
   "codemirror_mode": {
    "name": "ipython",
    "version": 3
   },
   "file_extension": ".py",
   "mimetype": "text/x-python",
   "name": "python",
   "nbconvert_exporter": "python",
   "pygments_lexer": "ipython3",
   "version": "3.10.13"
  }
 },
 "nbformat": 4,
 "nbformat_minor": 2
}
