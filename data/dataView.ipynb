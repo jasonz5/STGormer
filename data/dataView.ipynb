{
 "cells": [
  {
   "cell_type": "code",
   "execution_count": 5,
   "metadata": {},
   "outputs": [],
   "source": [
    "import numpy as np\n",
    "data_name = 'NYCBike1' #'NYCBike1'"
   ]
  },
  {
   "cell_type": "code",
   "execution_count": 6,
   "metadata": {},
   "outputs": [
    {
     "name": "stdout",
     "output_type": "stream",
     "text": [
      "x (3023, 19, 128, 2)\n",
      "y (3023, 1, 128, 2)\n",
      "x_offsets (19, 1)\n",
      "y_offsets (1, 1)\n"
     ]
    }
   ],
   "source": [
    "\n",
    "data_train = np.load(f'./{data_name}/train.npz')\n",
    "for file in data_train.files:\n",
    "    print(file, data_train[file].shape)\n",
    "'''\n",
    "time.npz\n",
    "x (3023, 19)\n",
    "y (3023, 1) [0, 24*7) tod+dow 20000101-00:00 - 20000101-01:00 **** 20000107-23:00\n",
    "y (3023, 1) [0, 24*7) tod+dow       0 -              1        ****       24*7-1\n",
    "'''\n",
    "'''\n",
    "PEMS0x/METR-LA [0, 24*7*12)\n",
    "'''"
   ]
  },
  {
   "cell_type": "code",
   "execution_count": 7,
   "metadata": {},
   "outputs": [
    {
     "name": "stdout",
     "output_type": "stream",
     "text": [
      "x (431, 19, 128, 2)\n",
      "y (431, 1, 128, 2)\n",
      "x_offsets (19, 1)\n",
      "y_offsets (1, 1)\n"
     ]
    }
   ],
   "source": [
    "\n",
    "data_val = np.load(f'./{data_name}/val.npz')\n",
    "for file in data_val.files:\n",
    "    print(file, data_val[file].shape)"
   ]
  },
  {
   "cell_type": "code",
   "execution_count": 8,
   "metadata": {},
   "outputs": [
    {
     "name": "stdout",
     "output_type": "stream",
     "text": [
      "x (864, 19, 128, 2)\n",
      "y (864, 1, 128, 2)\n",
      "x_offsets (19, 1)\n",
      "y_offsets (1, 1)\n"
     ]
    }
   ],
   "source": [
    "\n",
    "data_test = np.load(f'./{data_name}/test.npz')\n",
    "for file in data_test.files:\n",
    "    print(file, data_test[file].shape)"
   ]
  },
  {
   "cell_type": "code",
   "execution_count": 9,
   "metadata": {},
   "outputs": [
    {
     "name": "stdout",
     "output_type": "stream",
     "text": [
      "adj_mx (128, 128)\n",
      "[[0. 1. 0. ... 0. 0. 0.]\n",
      " [1. 0. 1. ... 0. 0. 0.]\n",
      " [0. 1. 0. ... 0. 0. 0.]\n",
      " ...\n",
      " [0. 0. 0. ... 0. 1. 0.]\n",
      " [0. 0. 0. ... 1. 0. 1.]\n",
      " [0. 0. 0. ... 0. 1. 0.]]\n"
     ]
    }
   ],
   "source": [
    "\n",
    "data_adj = np.load(f'./{data_name}/adj_mx.npz')\n",
    "for file in data_adj.files:\n",
    "    print(file, data_adj[file].shape)\n",
    "    print(data_adj[file])\n",
    "# Save to graph.txt\n",
    "# 对于NYCBike1(16*8), graph的node顺序按照h16w8的gird顺序\n",
    "np.savetxt('graph.txt', data_adj['adj_mx'], fmt='%d')"
   ]
  },
  {
   "cell_type": "markdown",
   "metadata": {},
   "source": []
  }
 ],
 "metadata": {
  "kernelspec": {
   "display_name": "stpt",
   "language": "python",
   "name": "python3"
  },
  "language_info": {
   "codemirror_mode": {
    "name": "ipython",
    "version": 3
   },
   "file_extension": ".py",
   "mimetype": "text/x-python",
   "name": "python",
   "nbconvert_exporter": "python",
   "pygments_lexer": "ipython3",
   "version": "3.10.13"
  }
 },
 "nbformat": 4,
 "nbformat_minor": 2
}
