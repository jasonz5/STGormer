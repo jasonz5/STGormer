{
 "cells": [
  {
   "cell_type": "code",
   "execution_count": 43,
   "metadata": {},
   "outputs": [
    {
     "data": {
      "text/plain": [
       "' 数据集时间范围\\nNYCBike1 | 20140401-20140930 | 19(4+5*3) | 1 hour\\nNYCBike2 | 20160701-20160829 | 35(8+9*3) | 30 min\\nNYCTaxi  | 20160101-20160229 | 35(8+9*3) | 30 min\\n'"
      ]
     },
     "execution_count": 43,
     "metadata": {},
     "output_type": "execute_result"
    }
   ],
   "source": [
    "''' 数据集时间范围\n",
    "NYCBike1 | 20140401-20140930 | 19(4+5*3) | 1 hour\n",
    "NYCBike2 | 20160701-20160829 | 35(8+9*3) | 30 min\n",
    "NYCTaxi  | 20160101-20160229 | 35(8+9*3) | 30 min\n",
    "'''"
   ]
  },
  {
   "cell_type": "markdown",
   "metadata": {},
   "source": []
  },
  {
   "cell_type": "code",
   "execution_count": 44,
   "metadata": {},
   "outputs": [],
   "source": [
    "import numpy as np\n",
    "data_name = 'NYCTaxi' #'NYCBike1' 'NYCBike2' 'NYCTaxi'\n",
    "data_train = np.load(f'./{data_name}/ori/train.npz')\n",
    "data_val = np.load(f'./{data_name}/ori/val.npz')\n",
    "data_test = np.load(f'./{data_name}/ori/test.npz')"
   ]
  },
  {
   "cell_type": "code",
   "execution_count": 45,
   "metadata": {},
   "outputs": [],
   "source": [
    "def get_timestamps_y(timestamps_shape, start_time, steps_per_day):\n",
    "    y_time = np.zeros(timestamps_shape) # [B, 1, N, 2]\n",
    "    \n",
    "    time_of_day, day_of_week = start_time[0], start_time[1]\n",
    "    for i in range(timestamps_shape[0]):\n",
    "        y_time[i, 0, :, 0] = time_of_day\n",
    "        y_time[i, 0, :, 1] = day_of_week\n",
    "        time_of_day += 1\n",
    "        if time_of_day == steps_per_day: # steps_per_day 24/48\n",
    "            time_of_day = 0\n",
    "            day_of_week = (day_of_week + 1) % 7\n",
    "    return y_time"
   ]
  },
  {
   "cell_type": "code",
   "execution_count": 46,
   "metadata": {},
   "outputs": [],
   "source": [
    "def get_timestamps_x(all_timestamps_y, timestamps_shape, x_offsets, steps_per_day):\n",
    "    x_time = np.zeros(timestamps_shape)  # [B, T, N, 2]\n",
    "\n",
    "    batch_size, _, num_nodes, _ = timestamps_shape\n",
    "    baseline_time = all_timestamps_y[:, 0, :, 0].reshape(batch_size, 1, num_nodes, 1)\n",
    "    baseline_day = all_timestamps_y[:, 0, :, 1].reshape(batch_size, 1, num_nodes, 1)\n",
    "\n",
    "    for t in range(timestamps_shape[1]):\n",
    "        offset = x_offsets[t][0]\n",
    "        current_time = baseline_time + offset - 1\n",
    "        current_day = baseline_day\n",
    "\n",
    "        # Adjust for wrapping around time of day\n",
    "        current_time %= steps_per_day\n",
    "        over_day_boundary = (baseline_time + offset - 1) // steps_per_day\n",
    "        current_day = (current_day + over_day_boundary) % 7\n",
    "\n",
    "        # Assign computed values to x_time\n",
    "        x_time[:, t, :, 0] = current_time.squeeze()\n",
    "        x_time[:, t, :, 1] = current_day.squeeze()\n",
    "\n",
    "    return x_time"
   ]
  },
  {
   "cell_type": "code",
   "execution_count": 47,
   "metadata": {},
   "outputs": [],
   "source": [
    "''' 预测值的第一个点(Day4)的时间戳(tod, dow)属性\n",
    "NYCBike1 3/24 5\n",
    "NYCBike2 5/48 1\n",
    "NYCTaxi 5/48 1\n",
    "'''\n",
    "_, time_his, num_nodes, _ = data_train['x'].shape\n",
    "_, time_pre, num_nodes, _ = data_train['y'].shape\n",
    "len_train, len_val, len_test = data_train['y'].shape[0], data_val['y'].shape[0], data_test['y'].shape[0]\n",
    "batch_size_all = len_train + len_val + len_test\n",
    "timestamps_shape_x = [batch_size_all, time_his, num_nodes, 2]  # [B, T, N, 2]\n",
    "timestamps_shape_y = [batch_size_all, time_pre, num_nodes, 2]  # [B, 1, N, 2]\n",
    "\n",
    "# 得到整个epoch的时间戳数据\n",
    "start_time = [2,4] if data_name == 'NYCBike1' else [4,0]\n",
    "steps_per_day = 24 if data_name == 'NYCBike1' else 48\n",
    "all_timestamps_y = get_timestamps_y(timestamps_shape_y, start_time, steps_per_day)\n",
    "all_timestamps_x = get_timestamps_x(all_timestamps_y, timestamps_shape_x, data_train['x_offsets'], steps_per_day)\n",
    "# all_timestamps_y [b_all, 1, N, 2]   all_timestamps_x [b_all, T, N, 2]  "
   ]
  },
  {
   "cell_type": "code",
   "execution_count": 48,
   "metadata": {},
   "outputs": [],
   "source": [
    "\n",
    "train_x_full = np.concatenate((data_train['x'], all_timestamps_x[0:len_train,:,:,:]), axis=-1)\n",
    "train_y_full = np.concatenate((data_train['y'], all_timestamps_y[0:len_train,:,:,:]), axis=-1)\n",
    "\n",
    "val_x_full = np.concatenate((data_val['x'], all_timestamps_x[len_train:len_train+len_val,:,:,:]), axis=-1)\n",
    "val_y_full = np.concatenate((data_val['y'], all_timestamps_y[len_train:len_train+len_val,:,:,:]), axis=-1)\n",
    "\n",
    "test_x_full = np.concatenate((data_test['x'], all_timestamps_x[len_train+len_val:,:,:,:]), axis=-1)\n",
    "test_y_full = np.concatenate((data_test['y'], all_timestamps_y[len_train+len_val:,:,:,:]), axis=-1)\n",
    "\n",
    "# Save updated data\n",
    "np.savez_compressed(f'./{data_name}/train.npz', x=train_x_full, y=train_y_full, x_offsets=data_train['x_offsets'], y_offsets=data_train['y_offsets'])\n",
    "np.savez_compressed(f'./{data_name}/val.npz', x=val_x_full, y=val_y_full, x_offsets=data_val['x_offsets'], y_offsets=data_val['y_offsets'])\n",
    "np.savez_compressed(f'./{data_name}/test.npz', x=test_x_full, y=test_y_full, x_offsets=data_test['x_offsets'], y_offsets=data_test['y_offsets'])"
   ]
  }
 ],
 "metadata": {
  "kernelspec": {
   "display_name": "stpt",
   "language": "python",
   "name": "python3"
  },
  "language_info": {
   "codemirror_mode": {
    "name": "ipython",
    "version": 3
   },
   "file_extension": ".py",
   "mimetype": "text/x-python",
   "name": "python",
   "nbconvert_exporter": "python",
   "pygments_lexer": "ipython3",
   "version": "3.10.13"
  }
 },
 "nbformat": 4,
 "nbformat_minor": 2
}
