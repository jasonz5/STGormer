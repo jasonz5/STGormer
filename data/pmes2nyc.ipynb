{
 "cells": [
  {
   "cell_type": "markdown",
   "metadata": {},
   "source": [
    "将STAEformer格式的数据集转为ST-SSL"
   ]
  },
  {
   "cell_type": "markdown",
   "metadata": {},
   "source": [
    "1. 加载数据集"
   ]
  },
  {
   "cell_type": "code",
   "execution_count": 3,
   "metadata": {},
   "outputs": [],
   "source": [
    "import numpy as np\n",
    "data_name = 'PEMSBAY' # 'METRLA' 'PEMSBAY'"
   ]
  },
  {
   "cell_type": "markdown",
   "metadata": {},
   "source": [
    "2. 邻接矩阵格式转换\n",
    "\n",
    "    adj_mx.npy -> npz"
   ]
  },
  {
   "cell_type": "code",
   "execution_count": 4,
   "metadata": {},
   "outputs": [],
   "source": [
    "adj_matrix = np.load(f'./{data_name}/adj_mx.npy')\n",
    "adj_matrix = adj_matrix.astype(np.float64)\n",
    "np.savez(f'./{data_name}/adj_mx.npz', adj_mx=adj_matrix)"
   ]
  },
  {
   "cell_type": "markdown",
   "metadata": {},
   "source": [
    "3. 数据集转换\n",
    "\n",
    "    data/index.npz -> train/val/test.npz"
   ]
  },
  {
   "cell_type": "code",
   "execution_count": 6,
   "metadata": {},
   "outputs": [],
   "source": [
    "def create_dataset(data, indices, history_len, predict_len):\n",
    "    batch_size = indices.shape[0]\n",
    "    num_nodes = data.shape[1]\n",
    "    num_channels = data.shape[2]\n",
    "    \n",
    "    X = np.zeros((batch_size, history_len, num_nodes, num_channels))\n",
    "    Y = np.zeros((batch_size, predict_len, num_nodes, num_channels))\n",
    "    \n",
    "    for i in range(batch_size):\n",
    "        start_hist = indices[i, 0]\n",
    "        end_hist = indices[i, 1]\n",
    "        start_pred = end_hist\n",
    "        end_pred = indices[i, 2]\n",
    "        \n",
    "        X[i] = data[start_hist:end_hist]\n",
    "        Y[i] = data[start_pred:end_pred]\n",
    "    \n",
    "    return X, Y\n",
    "\n",
    "data = np.load(f'./{data_name}/data.npz')['data']\n",
    "# data (34272, 207, 3)\n",
    "index = np.load(f'./{data_name}/index.npz')\n",
    "# train (23974, 3)\n",
    "# val (3425, 3)\n",
    "# test (6850, 3)\n",
    "\n",
    "# Create datasets\n",
    "train_X, train_Y = create_dataset(data, index['train'], 12, 12)\n",
    "val_X, val_Y = create_dataset(data, index['val'], 12, 12)\n",
    "test_X, test_Y = create_dataset(data, index['test'], 12, 12)\n",
    "\n",
    "# Save datasets\n",
    "np.savez_compressed(f'./{data_name}/train.npz', x=train_X, y=train_Y)\n",
    "np.savez_compressed(f'./{data_name}/val.npz', x=val_X, y=val_Y)\n",
    "np.savez_compressed(f'./{data_name}/test.npz', x=test_X, y=test_Y)\n"
   ]
  },
  {
   "cell_type": "markdown",
   "metadata": {},
   "source": []
  }
 ],
 "metadata": {
  "kernelspec": {
   "display_name": "stpt",
   "language": "python",
   "name": "python3"
  },
  "language_info": {
   "codemirror_mode": {
    "name": "ipython",
    "version": 3
   },
   "file_extension": ".py",
   "mimetype": "text/x-python",
   "name": "python",
   "nbconvert_exporter": "python",
   "pygments_lexer": "ipython3",
   "version": "3.10.13"
  }
 },
 "nbformat": 4,
 "nbformat_minor": 2
}
