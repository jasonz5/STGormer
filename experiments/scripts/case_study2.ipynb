{
 "cells": [
  {
   "cell_type": "markdown",
   "metadata": {},
   "source": [
    "1. 节点分类"
   ]
  },
  {
   "cell_type": "code",
   "execution_count": null,
   "metadata": {},
   "outputs": [],
   "source": [
    "import numpy as np\n",
    "data = np.load(f'./test.npz')\n",
    "for file in data.files:\n",
    "    print(file, data[file].shape, data[file].dtype)\n",
    "flow = data['y'][...,0:2].squeeze()\n",
    "flow.shape"
   ]
  },
  {
   "cell_type": "code",
   "execution_count": null,
   "metadata": {},
   "outputs": [],
   "source": [
    "from sklearn.cluster import KMeans\n",
    "\n",
    "# 计算每个节点的统计量 [128, 2]\n",
    "mean_values = np.mean(flow, axis=0)\n",
    "median_values = np.median(flow, axis=0)\n",
    "std_dev_values = np.std(flow, axis=0)\n",
    "\n",
    "# 构建特征矩阵\n",
    "features = np.concatenate([mean_values, median_values, std_dev_values], axis=-1)  # 形状变为(128, 6)\n",
    "\n",
    "# 应用K-means聚类\n",
    "class_num = 5\n",
    "kmeans = KMeans(n_clusters=class_num, random_state=0).fit(features)\n",
    "labels = kmeans.labels_\n",
    "labels"
   ]
  },
  {
   "cell_type": "markdown",
   "metadata": {},
   "source": [
    "2. 绘制tsne可视化"
   ]
  },
  {
   "cell_type": "code",
   "execution_count": null,
   "metadata": {},
   "outputs": [],
   "source": [
    "import numpy as np\n",
    "file_paths = {\n",
    "    'STGormer': 'repr_stgormer.npy',\n",
    "    'STformer': 'repr_statt_wot.npy'\n",
    "}\n",
    "data = {}\n",
    "for key, path in file_paths.items():\n",
    "    try:\n",
    "        data[key] = np.load(path)\n",
    "        print(f\"Shape of {key}: {data[key].shape}\")\n",
    "    except FileNotFoundError:\n",
    "        print(f\"Error: '{path}' not found.\")\n",
    "    except Exception as e:\n",
    "        print(f\"An error occurred while loading '{path}': {str(e)}\")"
   ]
  },
  {
   "cell_type": "code",
   "execution_count": null,
   "metadata": {},
   "outputs": [],
   "source": [
    "import matplotlib.pyplot as plt\n",
    "from sklearn.manifold import TSNE\n",
    "# 指定的batch和时间\n",
    "batch_idx = 14 # 14,15\n",
    "time_idx = -1\n",
    "fontsize = 20\n",
    "# 准备数据\n",
    "features = {}\n",
    "for key in data:\n",
    "    features[key] = data[key][batch_idx, :, time_idx, :].squeeze()\n",
    "# t-SNE变换\n",
    "tsne_transformed = {}\n",
    "for key in features:\n",
    "    tsne = TSNE(n_components=2, random_state=0, learning_rate=200.0)\n",
    "    tsne_transformed[key] = tsne.fit_transform(features[key])\n",
    "# 绘图\n",
    "fig, axes = plt.subplots(1, 2, figsize=(14, 6))\n",
    "colors = ['red', 'green', 'blue', 'purple', 'orange']\n",
    "variants = range(class_num)\n",
    "for ax, (key, transformed) in zip(axes, tsne_transformed.items()):\n",
    "    for i in variants:\n",
    "        indices = labels == i\n",
    "        ax.scatter(transformed[indices, 0], transformed[indices, 1], c=colors[i], alpha=0.5, s=80)\n",
    "    ax.tick_params(axis='both', which='both', length=0)\n",
    "    ax.set_xticks([])\n",
    "    ax.set_yticks([])\n",
    "    ax.set_xlabel(f'${key}$', fontsize=fontsize)\n",
    "\n",
    "# 创建图例\n",
    "legend_labels = [f'$region\\ {v+1}$' for v in variants]\n",
    "handles = [plt.Line2D([0], [0], marker='o', color='w', markerfacecolor=colors[v], alpha=0.5, markersize=12) for v in variants]\n",
    "legend = fig.legend(handles, legend_labels, loc='upper center', bbox_to_anchor=(0.5, 1.00), fontsize=16, ncol=len(variants), frameon=True)\n",
    "legend.get_frame().set_edgecolor('black')\n",
    "legend.get_frame().set_linewidth(1.0)\n",
    "\n",
    "# plt.tight_layout()\n",
    "# plt.savefig('tsne.pdf', format='pdf', bbox_inches='tight')\n",
    "plt.show()"
   ]
  },
  {
   "cell_type": "code",
   "execution_count": null,
   "metadata": {},
   "outputs": [],
   "source": []
  }
 ],
 "metadata": {
  "kernelspec": {
   "display_name": "stpt",
   "language": "python",
   "name": "python3"
  },
  "language_info": {
   "codemirror_mode": {
    "name": "ipython",
    "version": 3
   },
   "file_extension": ".py",
   "mimetype": "text/x-python",
   "name": "python",
   "nbconvert_exporter": "python",
   "pygments_lexer": "ipython3",
   "version": "3.10.14"
  }
 },
 "nbformat": 4,
 "nbformat_minor": 2
}
