{
 "cells": [
  {
   "cell_type": "code",
   "execution_count": 8,
   "metadata": {},
   "outputs": [
    {
     "data": {
      "text/plain": [
       "([' 5.13', ' 5.08', ' 5.05', ' 5.08', ' 5.07'],\n",
       " [' 21.6234%', ' 21.9103%', ' 21.8680%', ' 21.5869%', ' 21.6580%'],\n",
       " [' 4.75', ' 4.75', ' 4.68', ' 4.72', ' 4.72'],\n",
       " [' 20.5206%', ' 21.5026%', ' 20.9602%', ' 20.7843%', ' 20.5019%'])"
      ]
     },
     "execution_count": 8,
     "metadata": {},
     "output_type": "execute_result"
    }
   ],
   "source": [
    "import pandas as pd\n",
    "file_path = './NYCBike2/results.csv'\n",
    "csv_data_parsed = pd.read_csv(file_path, header=None)\n",
    "\n",
    "inflow_mae_values = csv_data_parsed.iloc[1, 2:].tolist() \n",
    "inflow_mape_values = csv_data_parsed.iloc[2, 2:].tolist()\n",
    "outflow_mae_values = csv_data_parsed.iloc[3, 2:].tolist()\n",
    "outflow_mape_values = csv_data_parsed.iloc[4, 2:].tolist()\n",
    "\n",
    "(inflow_mae_values, inflow_mape_values, outflow_mae_values, outflow_mape_values)"
   ]
  },
  {
   "cell_type": "code",
   "execution_count": 9,
   "metadata": {},
   "outputs": [
    {
     "data": {
      "text/plain": [
       "{'inflow_mae': {'mean': 5.082000000000001, 'std': 0.026381811916545816},\n",
       " 'inflow_mape': {'mean': 21.729319999999998, 'std': 0.13309766940108245},\n",
       " 'outflow_mae': {'mean': 4.723999999999999, 'std': 0.025768197453450364},\n",
       " 'outflow_mape': {'mean': 20.85392, 'std': 0.3665919879102653}}"
      ]
     },
     "execution_count": 9,
     "metadata": {},
     "output_type": "execute_result"
    }
   ],
   "source": [
    "# Importing necessary library\n",
    "import numpy as np\n",
    "\n",
    "# Processing the values to remove spaces and percentages, then converting them to numerical values\n",
    "inflow_mae = np.array([float(value.strip()) for value in inflow_mae_values])\n",
    "inflow_mape = np.array([float(value.strip().rstrip('%')) for value in inflow_mape_values])\n",
    "outflow_mae = np.array([float(value.strip()) for value in outflow_mae_values])\n",
    "outflow_mape = np.array([float(value.strip().rstrip('%')) for value in outflow_mape_values])\n",
    "\n",
    "# Calculating mean and standard deviation\n",
    "results = {\n",
    "    \"inflow_mae\": {\"mean\": np.mean(inflow_mae), \"std\": np.std(inflow_mae)},\n",
    "    \"inflow_mape\": {\"mean\": np.mean(inflow_mape), \"std\": np.std(inflow_mape)},\n",
    "    \"outflow_mae\": {\"mean\": np.mean(outflow_mae), \"std\": np.std(outflow_mae)},\n",
    "    \"outflow_mape\": {\"mean\": np.mean(outflow_mape), \"std\": np.std(outflow_mape)},\n",
    "}\n",
    "\n",
    "results\n"
   ]
  }
 ],
 "metadata": {
  "kernelspec": {
   "display_name": "stpt",
   "language": "python",
   "name": "python3"
  },
  "language_info": {
   "codemirror_mode": {
    "name": "ipython",
    "version": 3
   },
   "file_extension": ".py",
   "mimetype": "text/x-python",
   "name": "python",
   "nbconvert_exporter": "python",
   "pygments_lexer": "ipython3",
   "version": "3.10.13"
  }
 },
 "nbformat": 4,
 "nbformat_minor": 2
}
