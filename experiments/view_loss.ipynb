{
 "cells": [
  {
   "cell_type": "code",
   "execution_count": null,
   "metadata": {},
   "outputs": [],
   "source": [
    "\n",
    "import pickle\n",
    "import matplotlib.pyplot as plt\n",
    "\n",
    "# 读取.pkl文件\n",
    "file_path = 'NYCTaxi/MoESoft/stats.pkl'\n",
    "with open(file_path, 'rb') as f:\n",
    "    data = pickle.load(f)\n",
    "# print(data.keys())\n",
    "# for key in data.keys():\n",
    "#     print(key, data[key].shape)\n",
    "\n",
    "epochs = data['epoch']\n",
    "train_loss = data['train_loss']\n",
    "val_loss = data['val_loss']\n",
    "learning_rates = data['cur_lr']\n",
    "milestones = []\n",
    "# milestones = [1, 50, 80, 100, 120]\n",
    "# [120, 140, 160, 180, 200] # [1, 60, 90, 120, 150]\n"
   ]
  },
  {
   "cell_type": "code",
   "execution_count": null,
   "metadata": {},
   "outputs": [],
   "source": [
    "# Set up the figure and subplots\n",
    "fig, axs = plt.subplots(1, 3, figsize=(15, 5))\n",
    "\n",
    "# Plotting train_loss\n",
    "axs[0].plot(epochs, train_loss, 'tab:blue')\n",
    "axs[0].set_title('Train Loss')\n",
    "axs[0].set_xlabel('Epochs')\n",
    "axs[0].set_ylabel('Train Loss')\n",
    "axs[0].grid(True)\n",
    "for milestone in milestones:\n",
    "    axs[0].axvline(x=milestone, color='red', linestyle='--')\n",
    "    \n",
    "# Plotting val_loss\n",
    "axs[1].plot(epochs, val_loss, 'tab:orange')\n",
    "axs[1].set_title('Validation Loss')\n",
    "axs[1].set_xlabel('Epochs')\n",
    "axs[1].set_ylabel('Validation Loss')\n",
    "axs[1].grid(True)\n",
    "for milestone in milestones:\n",
    "    axs[1].axvline(x=milestone, color='red', linestyle='--')\n",
    "\n",
    "# Plotting learning_rates\n",
    "axs[2].plot(epochs, learning_rates, 'tab:green')\n",
    "axs[2].set_title('Learning Rate')\n",
    "axs[2].set_xlabel('Epochs')\n",
    "axs[2].set_ylabel('Learning Rate')\n",
    "axs[2].grid(True)\n",
    "for milestone in milestones:\n",
    "    axs[2].axvline(x=milestone, color='red', linestyle='--')\n",
    "\n",
    "# Adjust layout so there's no overlap of subplots\n",
    "plt.tight_layout()\n",
    "\n",
    "\n",
    "plt.savefig('loss.png')\n",
    "# plt.show()\n"
   ]
  }
 ],
 "metadata": {
  "kernelspec": {
   "display_name": "stpt",
   "language": "python",
   "name": "python3"
  },
  "language_info": {
   "codemirror_mode": {
    "name": "ipython",
    "version": 3
   },
   "file_extension": ".py",
   "mimetype": "text/x-python",
   "name": "python",
   "nbconvert_exporter": "python",
   "pygments_lexer": "ipython3",
   "version": "3.10.13"
  }
 },
 "nbformat": 4,
 "nbformat_minor": 2
}
